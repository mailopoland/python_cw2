{
 "metadata": {
  "name": "",
  "signature": "sha256:16979d1fc1e9fae019147ce7028f557e21e09c3af65accc2ee84290d321d0382"
 },
 "nbformat": 3,
 "nbformat_minor": 0,
 "worksheets": [
  {
   "cells": [
    {
     "cell_type": "heading",
     "level": 2,
     "metadata": {},
     "source": [
      "J\u0119zyk Python - Laboratorium 4."
     ]
    },
    {
     "cell_type": "heading",
     "level": 2,
     "metadata": {},
     "source": [
      "ZADANIA"
     ]
    },
    {
     "cell_type": "markdown",
     "metadata": {},
     "source": [
      "Napisz manager kontekstu, kt\u00f3ry zapisze do pliku podanego w argumencie czas wykonwania si\u0119 tego bloku kodu. Przydatny b\u0119dzie modu\u0142 `time` oraz funkcja `open`"
     ]
    },
    {
     "cell_type": "code",
     "collapsed": false,
     "input": [
      "from time import sleep, time\n",
      "import os\n",
      "\n",
      "class LoggingTime(object):    \n",
      "    def __init__(self, val):\n",
      "        self.filename = val\n",
      "    \n",
      "    def __enter__(self):\n",
      "        self.selfTime = time()\n",
      "        return self\n",
      "        \n",
      "    def __exit__(self, exc_t, exc_v, trace):\n",
      "        with open(self.filename, 'w+') as f:\n",
      "            f.write(str(time() - self.selfTime))\n",
      "        \n",
      "\n",
      "for valid in range(6):\n",
      "    \n",
      "    with LoggingTime('tmp.txt'):\n",
      "        sleep(valid)\n",
      "        \n",
      "    with open('tmp.txt') as fh:\n",
      "        value = float(fh.read())\n",
      "        print('Took %fs, should take %ds, is it ok? %s' % (value, valid, round(value) == round(valid)))\n",
      "        \n",
      "    os.remove('tmp.txt')"
     ],
     "language": "python",
     "metadata": {},
     "outputs": [
      {
       "output_type": "stream",
       "stream": "stdout",
       "text": [
        "Took 0.003906s, should take 0s, is it ok? True\n",
        "Took 0.999936s, should take 1s, is it ok? True"
       ]
      },
      {
       "output_type": "stream",
       "stream": "stdout",
       "text": [
        "\n",
        "Took 1.999872s, should take 2s, is it ok? True"
       ]
      },
      {
       "output_type": "stream",
       "stream": "stdout",
       "text": [
        "\n",
        "Took 2.999808s, should take 3s, is it ok? True"
       ]
      },
      {
       "output_type": "stream",
       "stream": "stdout",
       "text": [
        "\n",
        "Took 3.999744s, should take 4s, is it ok? True"
       ]
      },
      {
       "output_type": "stream",
       "stream": "stdout",
       "text": [
        "\n",
        "Took 4.999680s, should take 5s, is it ok? True"
       ]
      },
      {
       "output_type": "stream",
       "stream": "stdout",
       "text": [
        "\n"
       ]
      }
     ],
     "prompt_number": 5
    },
    {
     "cell_type": "markdown",
     "metadata": {},
     "source": [
      "Napisz manager kontekstu, kt\u00f3ry sprawi, \u017ce funkcja generuj\u0105ca kolejne liczby fibonnaciego \"przesunie\" si\u0119 o zadan\u0105 liczb\u0119 pozycji na czas kontekstu. Po wyj\u015bciu z kontekstu powinna wraca\u0107 do wyj\u015bciowego stanu. Innymi slowy, chcemy m\u00f3c w obr\u0119bie \"with\" pracowac z liczbami fibonnaciego o k dalszymi, ale po skonczeniu si\u0119 \"with\" chcemy \u017ceby wyj\u015bciowa zmienna by\u0142a nienaruszona. Manager powinien dzia\u0142a\u0107 z dowoln\u0105 klas\u0105, kt\u00f3ra posiada metod\u0119 \"next_value\"."
     ]
    },
    {
     "cell_type": "code",
     "collapsed": false,
     "input": [
      "import copy\n",
      "\n",
      "class Fibonnaci(object):\n",
      "    \n",
      "    def __init__(self):\n",
      "        self.fib = 0\n",
      "        self.last = -1           \n",
      "        \n",
      "    def next_value(self):\n",
      "        if self.last == -1:\n",
      "            self.last = 0\n",
      "            self.fib = 1\n",
      "        else:\n",
      "            self.last, self.fib = self.fib, self.fib + self.last\n",
      "        return self.fib\n",
      "    \n",
      "    def current_value(self):\n",
      "        return self.fib\n",
      "    \n",
      "class Shifted(object):\n",
      "    def __init__(self, fib, n):\n",
      "        self.n = n\n",
      "        self.fib = fib\n",
      "        \n",
      "    def __enter__(self):\n",
      "        fib_copy = copy.deepcopy(self.fib)\n",
      "        for _ in range(self.n):\n",
      "            fib_copy.next_value()\n",
      "        return fib_copy\n",
      "    \n",
      "    def __exit__(self, exc_type, exc_value, traceback):\n",
      "        pass\n",
      "    \n",
      "F = Fibonnaci()\n",
      "x = F.next_value()\n",
      "\n",
      "with Shifted(F, 0) as fib:\n",
      "    for i, v in zip(range(1, 10), [1,  2, 3, 5, 8, 13, 21, 34, 55]):\n",
      "        f = fib.next_value()\n",
      "        print(\"Iteration %d\\t Value %d \\t Valid %s\" % (i, f, f == v))\n",
      "\n",
      "# Teraz F powinno dalej wskazywac na x\n",
      "print('Is F still correct? %s' % (x == F.current_value()))\n",
      "\n",
      "with Shifted(F, 9) as fib:\n",
      "    for i, v in zip(range(1, 10), [89, 144, 233, 377, 610, 987, 1597, 2584, 4181]):\n",
      "        f = fib.next_value()\n",
      "        print(\"Iteration %d\\t Value %d \\t Valid %s\" % (i, f, f == v))\n",
      "               "
     ],
     "language": "python",
     "metadata": {},
     "outputs": [
      {
       "output_type": "stream",
       "stream": "stdout",
       "text": [
        "Iteration 1\t Value 1 \t Valid True\n",
        "Iteration 2\t Value 2 \t Valid True\n",
        "Iteration 3\t Value 3 \t Valid True\n",
        "Iteration 4\t Value 5 \t Valid True\n",
        "Iteration 5\t Value 8 \t Valid True\n",
        "Iteration 6\t Value 13 \t Valid True\n",
        "Iteration 7\t Value 21 \t Valid True\n",
        "Iteration 8\t Value 34 \t Valid True\n",
        "Iteration 9\t Value 55 \t Valid True\n",
        "Is F still correct? True\n",
        "Iteration 1\t Value 89 \t Valid True\n",
        "Iteration 2\t Value 144 \t Valid True\n",
        "Iteration 3\t Value 233 \t Valid True\n",
        "Iteration 4\t Value 377 \t Valid True\n",
        "Iteration 5\t Value 610 \t Valid True\n",
        "Iteration 6\t Value 987 \t Valid True\n",
        "Iteration 7\t Value 1597 \t Valid True\n",
        "Iteration 8\t Value 2584 \t Valid True\n",
        "Iteration 9\t Value 4181 \t Valid True\n"
       ]
      }
     ],
     "prompt_number": 9
    },
    {
     "cell_type": "markdown",
     "metadata": {},
     "source": [
      "Napisz klas\u0119\u00a0\"Bag of words\", kt\u00f3ra b\u0119dzie \"workiem s\u0142\u00f3w\" z zadanego dokumentu. Oznacza to, \u017ce ma w sobie przechowywa\u0107 informacje o tym ile razy ka\u017cde s\u0142owo wyst\u0105pi\u0142o w dokumencie. Dodatkowo ma udost\u0119pnia\u0107 nast\u0119puj\u0105c\u0105\u00a0funkcjonalno\u015b\u0107:\n",
      "\n",
      "* Mo\u017cna utworzy\u0107 go na dwa sposoby:\n",
      "\n",
      "         bow = BagOfWords(\"ala ma kota ala ma ala\")\n",
      "         bow = BagOfWords(open(\"plik.txt\"))\n",
      "         \n",
      "* Mo\u017cliwo\u015b\u0107 wy\u015bwietlania go po prostu pisz\u0105c `print(bow)` (kolejno\u015b\u0107 taka sama jak przy przegl\u0105daniu forem)\n",
      "\n",
      "        ala:3, ma:2, kota:1\n",
      "\n",
      "* Sprawdzanie czy jakie\u015b s\u0142owo nale\u017cy do naszego worka pisz\u0105c \n",
      "\n",
      "        if 'ala' in bow:\n",
      "            ...\n",
      "            \n",
      "* Przegl\u0105danie s\u0142\u00f3w w worku od najcz\u0119\u015bciej do najrzadziej wyst\u0119puj\u0105cego, czyli\n",
      "\n",
      "        for word in bow:\n",
      "            print(word)\n",
      "     \n",
      "  powinni\u015bmy zobaczy\u0107 \n",
      "  \n",
      "        ala\n",
      "        ma\n",
      "        kota\n",
      "        \n",
      "* Mo\u017cliwo\u015b\u0107 dodawania dw\u00f3ch work\u00f3w, pisz\u0105c\n",
      "\n",
      "        bow1 = BagOfWords(\"ala ma kota ala ma ala\")\n",
      "        bow2 = BagOfWords(\"tomek tez ma kota\")\n",
      "        bow3 = bow1 + bow2\n",
      "        print('tomek' in bow1) # False\n",
      "        print('tomek' in bow3) # True\n",
      "        print('ala' in bow3) # True\n",
      "        print(bow3) # ala:3, ma:3, kota:2, tez:1, tomek:1\n",
      "        \n",
      "* Odczytywanie cz\u0119sto\u015bci wyst\u0105pie\u0144 s\u0142\u00f3w poprzez nawiasy kwadratowe \n",
      "\n",
      "        print(bow1[\"ala\"]) # 3\n",
      "        print(bow3[\"ala\"]) # 3\n",
      "\n",
      "* Aktualizacj\u0119 cze\u015bto\u015bci wyst\u0105pie\u0144\n",
      "\n",
      "        bow3['tomek'] = 10\n",
      "        for el in bow3:\n",
      "            print el\n",
      "            \n",
      "  powinno wy\u015bwietli\u0107 najpierw \"tomek\""
     ]
    },
    {
     "cell_type": "code",
     "collapsed": false,
     "input": [
      "class BagOfWords:\n",
      "    \n",
      "    def __init__(self, text):\n",
      "        self.words = dict()\n",
      "        if isinstance(text, str):\n",
      "            self.insertLine(text)\n",
      "        else:\n",
      "            for line in text:\n",
      "                self.insertLine(line)\n",
      "        \n",
      "    def insertLine(self, line):\n",
      "        for word in line.split():\n",
      "            if word not in self.words:\n",
      "                self.words[word] = 1\n",
      "            else:\n",
      "                self.words[word] += 1\n",
      "                \n",
      "    def __str__(self):\n",
      "        return ', '.join([word + \":\" + str(self.words[word]) for word in self]) #str(sorted(self.words.items(), key=lambda el: el[1], reverse=True))\n",
      "    \n",
      "    def __contains__(self, word):\n",
      "        return word in self.words\n",
      "    \n",
      "    def __iter__(self):\n",
      "        for element in sorted(self.words.items(), key=lambda el: el[1], reverse=True):\n",
      "            yield element[0]\n",
      "            \n",
      "    def __getitem__(self, word):\n",
      "        return self.words[word] if word in self.words else 0\n",
      "    \n",
      "    def __setitem__(self, word, value):\n",
      "        self.words[word] = value\n",
      "        \n",
      "    def __add__(self, other):\n",
      "        result = copy.deepcopy(self)\n",
      "        for word, value in other.words.items():\n",
      "            if word not in result:\n",
      "                result[word] = value\n",
      "            else:\n",
      "                result[word] += value\n",
      "        return result    \n",
      "    \n",
      "    pass\n",
      "\n",
      "bag = BagOfWords(\"ala ma kota ala kota ma ma ma\")\n",
      "bag2 = BagOfWords(\"ola ma psa ala psa ma ma ma\")\n",
      "bag3 = BagOfWords(open(\"U4.ipynb\"))\n",
      "print(bag)\n",
      "print(\"ala\" in bag)\n",
      "for word in bag:\n",
      "    print(word)\n",
      "bag[\"kota\"] = 10\n",
      "print(bag)\n",
      "#print(bag[\"kota\"])\n",
      "print(bag2)\n",
      "print(bag+bag2)\n",
      "    "
     ],
     "language": "python",
     "metadata": {},
     "outputs": [
      {
       "output_type": "stream",
       "stream": "stdout",
       "text": [
        "ma:4, ala:2, kota:2\n",
        "True\n",
        "ma\n",
        "ala\n",
        "kota\n",
        "kota:10, ma:4, ala:2\n",
        "ma:4, psa:2, ola:1, ala:1\n",
        "kota:10, ma:8, ala:3, psa:2, ola:1\n"
       ]
      }
     ],
     "prompt_number": 25
    },
    {
     "cell_type": "markdown",
     "metadata": {},
     "source": [
      "Napisz klas\u0119 pochodn\u0105 o nazwie `SetOfWords`, kt\u00f3ra zapami\u0119tuje jedynie kt\u00f3re s\u0142owa wyst\u0105pi\u0142y, bez zliczania ile razy. Powinno zmieni\u0107 si\u0119 wy\u015bwietlanie (zamiast 'ala:3, ma:2, kota:1' powinni\u015bmy zobaczy\u0107 'ala, ma, kota'), postaraj si\u0119\u00a0napisa\u0107 j\u0105 jak najwydaniej, z kt\u00f3rych element\u00f3w obecnych wewn\u0105trz klasy `BagOfWords` mo\u017cesz zrezygnowa\u0107? Dlaczego? Jak du\u017co kodu musisz zmodyfikowa\u0107 by mie\u0107 z jednej strony poprawn\u0105 implementacj\u0119 a z drugiej jak najmniej zmieni\u0107 klasy bazowej?"
     ]
    },
    {
     "cell_type": "code",
     "collapsed": false,
     "input": [
      "class SetOfWords(BagOfWords):\n",
      "    \n",
      "    pass"
     ],
     "language": "python",
     "metadata": {},
     "outputs": []
    },
    {
     "cell_type": "markdown",
     "metadata": {},
     "source": [
      "**Zadanie dodatkowe**\n",
      "\n",
      "Przer\u00f3b implementacj\u0119 `BagOfWords` na `BagOfPairsOfWords`, gdzie zamiast przechowywa\u0107 liczno\u015b\u0107 pojedynczych s\u0142\u00f3w, przechowuj jak wiele razy wyst\u0105pi\u0142y obok siebie pary s\u0142\u00f3w, np.\n",
      "\n",
      "        \"ala ma kota ala ma psa\"\n",
      "        \n",
      "zawiera nast\u0119puj\u0105ce pary:\n",
      "\n",
      "        (None, 'ala'): 1\n",
      "        ('ala', 'ma'): 2\n",
      "        ('ma', 'kota'): 1\n",
      "        ('kota', 'ala'): 1\n",
      "        ('ma', 'psa'): 1\n",
      "        ('psa', None): 1\n",
      "        \n",
      "Powinny dzia\u0142a\u0107 wszystkie funkcjonalno\u015bci `BagOfWords`, po prostu pracujemy na parach, czyli np.\n",
      "\n",
      "        bopow = BagOfPairsOfWords('ala ma kota ala ma psa')\n",
      "        bopow[('ala', 'ma')] == 2\n",
      "        ('ala', 'ma') in bopow\n",
      "        for word1, word2 in bopow:\n",
      "            print(word1, word2, bopow[(word1, word2)])\n",
      "            \n",
      "Dodatkowo je\u015bli u\u017cytkownik poprosi o s\u0142owo, zamiast o par\u0119 to powinien dosta\u0107 wszystkie s\u0142owa, z kt\u00f3rymi zadane wyst\u0119puje w parze, czyli np.\n",
      "\n",
      "        for word in bopow['ala']:\n",
      "            print word, bopow[('ala', word)]\n",
      "            \n",
      "wy\u015bwietla \n",
      "\n",
      "        ma, 2\n"
     ]
    },
    {
     "cell_type": "code",
     "collapsed": false,
     "input": [],
     "language": "python",
     "metadata": {},
     "outputs": []
    }
   ],
   "metadata": {}
  }
 ]
}